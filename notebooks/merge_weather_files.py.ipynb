{
 "cells": [
  {
   "cell_type": "code",
   "execution_count": 1,
   "id": "42a9573c",
   "metadata": {},
   "outputs": [
    {
     "name": "stdout",
     "output_type": "stream",
     "text": [
      "Merged file saved to: F:\\Portfolio\\tequila-nom-climate-map\\data\\weather_total.csv\n"
     ]
    }
   ],
   "source": [
    "import pandas as pd\n",
    "import os\n",
    "\n",
    "# Set your directory path\n",
    "data_dir = r\"F:\\Portfolio\\tequila-nom-climate-map\\data\"\n",
    "\n",
    "# List all the weather files\n",
    "weather_files = [\n",
    "    \"weather1.csv\",\n",
    "    \"weather2.csv\",\n",
    "    \"weather3.csv\",\n",
    "    \"weather4.csv\",\n",
    "    \"weather5.csv\",\n",
    "    \"weather6.csv\"\n",
    "]\n",
    "\n",
    "# Read and combine the files\n",
    "dfs = []\n",
    "for file in weather_files:\n",
    "    path = os.path.join(data_dir, file)\n",
    "    df = pd.read_csv(path)\n",
    "    dfs.append(df)\n",
    "\n",
    "# Combine into one DataFrame\n",
    "weather_total = pd.concat(dfs, ignore_index=True)\n",
    "\n",
    "# Create 'datetime' column if DateYear/DateMonth/DateDay exist\n",
    "if all(col in weather_total.columns for col in [\"DateYear\", \"DateMonth\", \"DateDay\"]):\n",
    "    weather_total[\"datetime\"] = pd.to_datetime(\n",
    "        weather_total[\"DateYear\"].astype(str) + \"-\" +\n",
    "        weather_total[\"DateMonth\"].astype(str) + \"-\" +\n",
    "        weather_total[\"DateDay\"].astype(str),\n",
    "        errors=\"coerce\"\n",
    "    )\n",
    "    # Drop original date columns\n",
    "    weather_total.drop(columns=[\"DateYear\", \"DateMonth\", \"DateDay\"], inplace=True)\n",
    "\n",
    "# Save the merged file\n",
    "output_file = os.path.join(data_dir, \"weather_total.csv\")\n",
    "weather_total.to_csv(output_file, index=False)\n",
    "\n",
    "print(f\"Merged file saved to: {output_file}\")\n"
   ]
  },
  {
   "cell_type": "code",
   "execution_count": 2,
   "id": "4d87067d",
   "metadata": {},
   "outputs": [
    {
     "name": "stdout",
     "output_type": "stream",
     "text": [
      "✅ Merged file saved to: F:\\Portfolio\\tequila-nom-climate-map\\data\\weather_total.csv\n"
     ]
    }
   ],
   "source": [
    "import pandas as pd\n",
    "import os\n",
    "\n",
    "# Set your directory\n",
    "data_dir = r\"F:\\Portfolio\\tequila-nom-climate-map\\data\"\n",
    "weather_files = [f\"weather{i}.csv\" for i in range(1, 7)]\n",
    "\n",
    "# Load and combine\n",
    "dfs = []\n",
    "for file in weather_files:\n",
    "    path = os.path.join(data_dir, file)\n",
    "    df = pd.read_csv(path, parse_dates=[\"datetime\"])\n",
    "    dfs.append(df)\n",
    "\n",
    "weather_total = pd.concat(dfs, ignore_index=True)\n",
    "\n",
    "# Keep only relevant columns\n",
    "columns_to_keep = [\n",
    "    \"datetime\", \"temp\", \"tempmin\", \"tempmax\",\n",
    "    \"dew\", \"humidity\", \"windspeed\", \"winddir\", \"solarenergy\"\n",
    "]\n",
    "weather_total = weather_total[[col for col in columns_to_keep if col in weather_total.columns]]\n",
    "\n",
    "# Drop NAs and save\n",
    "weather_total.dropna(inplace=True)\n",
    "output_file = os.path.join(data_dir, \"weather_total.csv\")\n",
    "weather_total.to_csv(output_file, index=False)\n",
    "\n",
    "print(f\"✅ Merged file saved to: {output_file}\")\n"
   ]
  },
  {
   "cell_type": "code",
   "execution_count": null,
   "id": "b5807abc",
   "metadata": {},
   "outputs": [],
   "source": []
  }
 ],
 "metadata": {
  "kernelspec": {
   "display_name": "Python 3 (ipykernel)",
   "language": "python",
   "name": "python3"
  },
  "language_info": {
   "codemirror_mode": {
    "name": "ipython",
    "version": 3
   },
   "file_extension": ".py",
   "mimetype": "text/x-python",
   "name": "python",
   "nbconvert_exporter": "python",
   "pygments_lexer": "ipython3",
   "version": "3.11.7"
  }
 },
 "nbformat": 4,
 "nbformat_minor": 5
}
